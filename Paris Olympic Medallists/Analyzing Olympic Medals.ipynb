{
 "cells": [
  {
   "cell_type": "code",
   "execution_count": 84,
   "metadata": {},
   "outputs": [],
   "source": [
    "import pandas as pd\n",
    "import matplotlib.pyplot as plt\n",
    "import seaborn as sns\n",
    "from statsmodels.tsa.holtwinters import ExponentialSmoothing"
   ]
  },
  {
   "cell_type": "code",
   "execution_count": 85,
   "metadata": {},
   "outputs": [],
   "source": [
    "file_path = '/Users/taliaveils/Documents/Data Analyst Project/Paris Olympic Medallists/Paris Olympic Medallists.csv'\n",
    "\n",
    "# Load the file using an alternative encoding (ISO-8859-1)\n",
    "df = pd.read_csv(file_path, encoding='ISO-8859-1', delimiter=';')\n",
    "\n",
    "# Set custom headers\n",
    "df.columns = ['Rank', 'NOC', 'Gold', 'Silver', 'Bronze', 'Total']\n",
    "\n",
    "# Save it with UTF-8 encoding\n",
    "df.to_csv('cleaned_file.csv', index=False, encoding='utf-8')\n"
   ]
  },
  {
   "cell_type": "code",
   "execution_count": null,
   "metadata": {},
   "outputs": [],
   "source": [
    "# Remove special characters (like à, *, etc.) in the 'NOC' column\n",
    "df['NOC'] = df['NOC'].str.replace('à', '', regex=True)\n",
    "df['NOC'] = df['NOC'].str.replace(r'[^\\w\\s]', '', regex=True)\n",
    "\n",
    "# Verify the changes\n",
    "print(df['NOC'])"
   ]
  },
  {
   "cell_type": "code",
   "execution_count": null,
   "metadata": {},
   "outputs": [],
   "source": [
    "df"
   ]
  },
  {
   "cell_type": "markdown",
   "metadata": {},
   "source": [
    "#### Explore the data\n",
    "Get information about the data first"
   ]
  },
  {
   "cell_type": "code",
   "execution_count": null,
   "metadata": {},
   "outputs": [],
   "source": [
    "df.info()"
   ]
  },
  {
   "cell_type": "code",
   "execution_count": null,
   "metadata": {},
   "outputs": [],
   "source": [
    "df.columns"
   ]
  },
  {
   "cell_type": "markdown",
   "metadata": {},
   "source": [
    "Rename Column"
   ]
  },
  {
   "cell_type": "code",
   "execution_count": null,
   "metadata": {},
   "outputs": [],
   "source": [
    "(\n",
    "    df[[\"Rank\", \"NOC\", \"Gold\", \"Silver\", \"Bronze\", \"Total\"]]\n",
    "    .rename(columns={\"Total\": \"Total Medals\"})\n",
    ").head(5)\n"
   ]
  },
  {
   "cell_type": "markdown",
   "metadata": {},
   "source": [
    "#### Research answer"
   ]
  },
  {
   "cell_type": "markdown",
   "metadata": {},
   "source": [
    "Visualization Total medals of each country"
   ]
  },
  {
   "cell_type": "code",
   "execution_count": null,
   "metadata": {},
   "outputs": [],
   "source": [
    "import matplotlib.pyplot as plt\n",
    "\n",
    "top_10_countries = total_medals_by_country.head(10)\n",
    "top_10_countries.plot(kind='bar', x='NOC', y='Total Medals', title='Top 10 Countries by Total Medals')\n",
    "plt.show()"
   ]
  },
  {
   "cell_type": "markdown",
   "metadata": {},
   "source": [
    "Total Medals"
   ]
  },
  {
   "cell_type": "code",
   "execution_count": null,
   "metadata": {},
   "outputs": [],
   "source": [
    "total_gold_medals = df['Gold'].sum()\n",
    "total_gold_medals"
   ]
  },
  {
   "cell_type": "code",
   "execution_count": null,
   "metadata": {},
   "outputs": [],
   "source": [
    "total_silver_medals = df['Silver'].sum() \n",
    "total_silver_medals"
   ]
  },
  {
   "cell_type": "code",
   "execution_count": null,
   "metadata": {},
   "outputs": [],
   "source": [
    "total_bronze_medals = df['Bronze'].sum() \n",
    "total_bronze_medals"
   ]
  },
  {
   "cell_type": "code",
   "execution_count": null,
   "metadata": {},
   "outputs": [],
   "source": [
    "total_NOC = df['NOC'].count() \n",
    "total_NOC"
   ]
  },
  {
   "cell_type": "markdown",
   "metadata": {},
   "source": [
    "Total Medals: Calculate the total number of gold, silver, and bronze medals for each country."
   ]
  },
  {
   "cell_type": "code",
   "execution_count": 95,
   "metadata": {},
   "outputs": [],
   "source": [
    "# Create Total Medals column if it doesn't exist\n",
    "df['Total Medals'] = df[['Gold', 'Silver', 'Bronze']].sum(axis=1)"
   ]
  },
  {
   "cell_type": "code",
   "execution_count": 96,
   "metadata": {},
   "outputs": [],
   "source": [
    "# Calculate percentage of medals\n",
    "df['Gold Percentage'] = (df['Gold'] / df['Total Medals']) * 100\n",
    "df['Silver Percentage'] = (df['Silver'] / df['Total Medals']) * 100\n",
    "df['Bronze Percentage'] = (df['Bronze'] / df['Total Medals']) * 100"
   ]
  },
  {
   "cell_type": "code",
   "execution_count": 97,
   "metadata": {},
   "outputs": [],
   "source": [
    "# Handle division by zero, fill NaN values with 0\n",
    "df['Gold Percentage'] = df['Gold Percentage'].fillna(0)\n",
    "df['Silver Percentage'] = df['Silver Percentage'].fillna(0)\n",
    "df['Bronze Percentage'] = df['Bronze Percentage'].fillna(0)"
   ]
  },
  {
   "cell_type": "code",
   "execution_count": null,
   "metadata": {},
   "outputs": [],
   "source": [
    "# Preview the dataframe with the new Percentage column\n",
    "print(df[['NOC', 'Gold', 'Total Medals', 'Gold Percentage']].head())\n",
    "print(df[['NOC', 'Silver', 'Total Medals', 'Silver Percentage']].head())\n",
    "print(df[['NOC', 'Bronze', 'Total Medals', 'Bronze Percentage']].head())"
   ]
  }
 ],
 "metadata": {
  "kernelspec": {
   "display_name": "Python 3",
   "language": "python",
   "name": "python3"
  },
  "language_info": {
   "codemirror_mode": {
    "name": "ipython",
    "version": 3
   },
   "file_extension": ".py",
   "mimetype": "text/x-python",
   "name": "python",
   "nbconvert_exporter": "python",
   "pygments_lexer": "ipython3",
   "version": "3.11.5"
  }
 },
 "nbformat": 4,
 "nbformat_minor": 2
}
