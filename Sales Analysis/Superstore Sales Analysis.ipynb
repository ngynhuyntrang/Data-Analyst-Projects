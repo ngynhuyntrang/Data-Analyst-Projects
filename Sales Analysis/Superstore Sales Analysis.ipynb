{
 "cells": [
  {
   "cell_type": "markdown",
   "metadata": {},
   "source": [
    "# Superstore Sales Analysis"
   ]
  },
  {
   "cell_type": "markdown",
   "metadata": {},
   "source": [
    "By Ngoc Huyen Trang Nguyen (Talia)"
   ]
  },
  {
   "cell_type": "markdown",
   "metadata": {},
   "source": [
    "#### Problem Statement\n",
    "- The Superstore dataset provides sales and profit data for a variety of products across different categories.\n",
    "- The goal of this project is to analyze the data and identify insights that can help the company improve its business performance.\n",
    "- By answering these questions, we hope to provide recommendations for the company on how to enhance the overall performance of sales. This analysis can help the company make informed decisions to improve customer satisfaction, increase sales, and maximize operational efficiency."
   ]
  },
  {
   "cell_type": "markdown",
   "metadata": {},
   "source": [
    "#### Assumptions\n",
    "- The data in the dataset is accurate and has been cleaned and preprocessed prior to analysis.\n",
    "- Representativeness of Data: The Sale Report dataset is assumed to provide a representative sample of all sales transactions during the specified time period covered by the dataset.\n",
    "- Time Period Coverage: The dataset is assumed to cover a sufficient time period to allow for the identification of trends or patterns in sales and profitability in sales. This assumption implies that the dataset provides a comprehensive overview of pizza sales over the designated timeframe.\n",
    "- Absence of Outliers or Anomalies: The dataset is not impacted by any significant outliers or anomalies that could skew the results of any analysis conducted on the dataset."
   ]
  },
  {
   "cell_type": "markdown",
   "metadata": {},
   "source": [
    "#### Research\n",
    "Sales Performance Analysis:\n",
    "- Total sales, profit, and quantity sold over time (daily, monthly, yearly).\n",
    "- Sales trends by different categories.\n",
    "\n",
    "Product Analysis:\n",
    "- Impact of discounts on sales and profit.\n",
    "- Inventory management insights (e.g., high demand products).\n",
    "\n",
    "Geographical Analysis:\n",
    "- Sales distribution across different regions.\n",
    "- Identifying high and low performing regions.\n",
    "\n",
    "Shipping Analysis:\n",
    "- Analysis of shipping modes.\n",
    "\n",
    "Time Series Analysis:\n",
    "- Seasonal trends in sales and profit.\n",
    "- Forecasting future sales based on historical data.\n",
    "\n",
    "Discount Impact Analysis:\n",
    "- Effect of discount rates on sales volume and profit margins.\n",
    "\n",
    "Customer Analysis:\n",
    "- Customer segmentation based on purchase behavior (e.g., frequency, average order value)."
   ]
  },
  {
   "cell_type": "markdown",
   "metadata": {},
   "source": [
    "# Execution"
   ]
  },
  {
   "cell_type": "code",
   "execution_count": null,
   "metadata": {},
   "outputs": [],
   "source": [
    "import pandas as pd \n",
    "import seaborn as sns\n",
    "import matplotlib.pyplot as plt\n",
    "import seaborn as sns"
   ]
  },
  {
   "cell_type": "code",
   "execution_count": null,
   "metadata": {},
   "outputs": [],
   "source": [
    "file_path = '/Users/taliaveils/Documents/Superstore.csv'\n",
    "df = pd.read_csv(file_path, encoding='latin1')\n",
    "df"
   ]
  },
  {
   "cell_type": "code",
   "execution_count": null,
   "metadata": {},
   "outputs": [],
   "source": [
    "pd.set_option('display.float_format', lambda x:['%.2f' % x])"
   ]
  },
  {
   "cell_type": "markdown",
   "metadata": {},
   "source": [
    "#### Explore the data\n",
    "1. Shape of the dataset"
   ]
  },
  {
   "cell_type": "code",
   "execution_count": null,
   "metadata": {},
   "outputs": [],
   "source": [
    "df.shape"
   ]
  },
  {
   "cell_type": "markdown",
   "metadata": {},
   "source": [
    "2. Display top 5 rows"
   ]
  },
  {
   "cell_type": "code",
   "execution_count": null,
   "metadata": {},
   "outputs": [],
   "source": [
    "df.head(5)"
   ]
  },
  {
   "cell_type": "markdown",
   "metadata": {},
   "source": [
    "3. Display the last 5 rows"
   ]
  },
  {
   "cell_type": "code",
   "execution_count": null,
   "metadata": {},
   "outputs": [],
   "source": [
    "df.tail(5)"
   ]
  },
  {
   "cell_type": "markdown",
   "metadata": {},
   "source": [
    "4. Get information about the data first"
   ]
  },
  {
   "cell_type": "code",
   "execution_count": null,
   "metadata": {},
   "outputs": [],
   "source": [
    "df.info()"
   ]
  },
  {
   "cell_type": "markdown",
   "metadata": {},
   "source": [
    "5. Check null values in the dataset"
   ]
  },
  {
   "cell_type": "code",
   "execution_count": null,
   "metadata": {},
   "outputs": [],
   "source": [
    "df.isnull().sum()"
   ]
  },
  {
   "cell_type": "markdown",
   "metadata": {},
   "source": [
    "6. Check the duplicate "
   ]
  },
  {
   "cell_type": "code",
   "execution_count": null,
   "metadata": {},
   "outputs": [],
   "source": [
    "df.duplicated().any()"
   ]
  },
  {
   "cell_type": "markdown",
   "metadata": {},
   "source": [
    "--> no data duplicated"
   ]
  },
  {
   "cell_type": "markdown",
   "metadata": {},
   "source": [
    "7. Get the statistic data"
   ]
  },
  {
   "cell_type": "code",
   "execution_count": null,
   "metadata": {},
   "outputs": [],
   "source": [
    "df.describe()"
   ]
  },
  {
   "cell_type": "markdown",
   "metadata": {},
   "source": [
    "#### Research answer"
   ]
  },
  {
   "cell_type": "markdown",
   "metadata": {},
   "source": [
    "Total sales, profit, and quantity sold over time (daily, monthly, and yearly)"
   ]
  },
  {
   "cell_type": "code",
   "execution_count": null,
   "metadata": {},
   "outputs": [],
   "source": [
    "df['Order Date'] = pd.to_datetime(df['Order Date'])"
   ]
  },
  {
   "cell_type": "code",
   "execution_count": null,
   "metadata": {},
   "outputs": [],
   "source": [
    "daily_sales = df.groupby(df['Order Date'].dt.date).agg({\n",
    "    'Sales': 'sum',\n",
    "    'Profit': 'sum',\n",
    "    'Quantity': 'sum'\n",
    "})\n",
    "daily_sales"
   ]
  },
  {
   "cell_type": "code",
   "execution_count": null,
   "metadata": {},
   "outputs": [],
   "source": [
    "monthly_sales = df.groupby(df['Order Date'].dt.month).agg({\n",
    "    'Sales': 'sum',\n",
    "    'Profit': 'sum',\n",
    "    'Quantity': 'sum'\n",
    "})\n",
    "monthly_sales"
   ]
  },
  {
   "cell_type": "code",
   "execution_count": null,
   "metadata": {},
   "outputs": [],
   "source": [
    "yearly_sales = df.groupby(df['Order Date'].dt.year).agg({\n",
    "    'Sales': 'sum',\n",
    "    'Profit': 'sum',\n",
    "    'Quantity': 'sum'\n",
    "})\n",
    "yearly_sales"
   ]
  },
  {
   "cell_type": "code",
   "execution_count": null,
   "metadata": {},
   "outputs": [],
   "source": [
    "# Plotting function\n",
    "def plot_aggregated_data(df, title, x_label):\n",
    "    fig, ax1 = plt.subplots(figsize=(12, 6))\n",
    "\n",
    "    ax2 = ax1.twinx()\n",
    "    ax1.bar(df.iloc[:, 0].astype(str), df['Quantity'], alpha=0.6)\n",
    "    ax2.plot(df.iloc[:, 0].astype(str), df['Sales'])\n",
    "    ax2.plot(df.iloc[:, 0].astype(str), df['Profit'])\n",
    "\n",
    "    ax1.set_xlabel(x_label)\n",
    "    ax1.set_ylabel('Quantity', color='b')\n",
    "    ax2.set_ylabel('Sales (lightblue) / Profit (red)', color='pink')\n",
    "    plt.title(title)\n",
    "    plt.xticks(rotation=45)\n",
    "    plt.show()\n",
    "\n",
    "# Daily sales plot\n",
    "plot_aggregated_data(daily_sales, 'Daily Sales, Profit, and Quantity Sold', 'Date')\n",
    "\n",
    "# Monthly sales plot\n",
    "plot_aggregated_data(monthly_sales, 'Monthly Sales, Profit, and Quantity Sold', 'Month')\n",
    "\n",
    "# Yearly sales plot\n",
    "plot_aggregated_data(yearly_sales, 'Yearly Sales, Profit, and Quantity Sold', 'Year')\n"
   ]
  },
  {
   "cell_type": "markdown",
   "metadata": {},
   "source": [
    "Total sales, profit, and quantity sold over time following category"
   ]
  },
  {
   "cell_type": "code",
   "execution_count": null,
   "metadata": {},
   "outputs": [],
   "source": [
    "df.columns"
   ]
  },
  {
   "cell_type": "code",
   "execution_count": null,
   "metadata": {},
   "outputs": [],
   "source": [
    "import seaborn as sns"
   ]
  },
  {
   "cell_type": "code",
   "execution_count": null,
   "metadata": {},
   "outputs": [],
   "source": [
    "pip install --upgrade plotly"
   ]
  },
  {
   "cell_type": "code",
   "execution_count": null,
   "metadata": {},
   "outputs": [],
   "source": [
    "import plotly.graph_objects as go\n",
    "\n",
    "# Aggregating data by category for sales\n",
    "sales_category = df.groupby(['Category'], as_index=False).agg({\n",
    "    'Sales': 'sum',\n",
    "})\n",
    "\n",
    "# Aggregating data by category for profit\n",
    "profit_category = df.groupby(['Category'], as_index=False).agg({\n",
    "    'Profit': 'sum'\n",
    "})\n",
    "\n",
    "# Merge the sales and profit dataframes\n",
    "sales_profit_category = pd.merge(sales_category, profit_category, on='Category')\n",
    "\n",
    "# Create the figure\n",
    "fig = go.Figure()\n",
    "\n",
    "# Adding bar traces for Sales and Profit\n",
    "fig.add_trace(go.Bar(x=sales_profit_category['Category'], \n",
    "                     y=sales_profit_category['Sales'], \n",
    "                     name='Sales',\n",
    "                     marker_color='lightblue'))\n",
    "fig.add_trace(go.Bar(x=sales_profit_category['Category'], \n",
    "                     y=sales_profit_category['Profit'], \n",
    "                     name='Profit',\n",
    "                     marker_color='pink'))\n",
    "\n",
    "# Updating layout\n",
    "fig.update_layout(title='Sales and Profit Analysis by Category',\n",
    "                  xaxis_title='Category', \n",
    "                  yaxis_title='Amount',\n",
    "                  barmode='group', # Group bars together\n",
    "                  width=1200,      # Width of the figure\n",
    "                  height=600)      # Height of the figure\n",
    "\n",
    "# Show the figure\n",
    "fig.show()\n"
   ]
  },
  {
   "cell_type": "markdown",
   "metadata": {},
   "source": [
    "- Top 10 high-demand products"
   ]
  },
  {
   "cell_type": "code",
   "execution_count": null,
   "metadata": {},
   "outputs": [],
   "source": [
    "# Aggregate quantity by product to identify high-demand products\n",
    "product_demand = df.groupby('Product Name').agg({\n",
    "    'Quantity': 'sum',\n",
    "    'Sales': 'sum'\n",
    "}).reset_index()\n",
    "\n",
    "# Identify top 10 high-demand products\n",
    "top_demand_products = product_demand.nlargest(10, 'Quantity')\n",
    "\n",
    "# Plotting the high-demand products\n",
    "plt.figure(figsize=(12, 6))\n",
    "sns.barplot(x='Quantity', y='Product Name', data=top_demand_products, palette='tab20c' )\n",
    "plt.title('Top 10 High-Demand Products')\n",
    "plt.xlabel('Total Quantity Sold')\n",
    "plt.ylabel('Product Name')\n",
    "plt.grid(True)\n",
    "plt.show()"
   ]
  },
  {
   "cell_type": "markdown",
   "metadata": {},
   "source": [
    "Discount Impact Analysis:\n",
    "- Effect of discount rates on sales volume and profit."
   ]
  },
  {
   "cell_type": "code",
   "execution_count": null,
   "metadata": {},
   "outputs": [],
   "source": [
    "import matplotlib.pyplot as plt\n",
    "import seaborn as sns\n",
    "\n",
    "# Aggregate sales and profit by discount levels\n",
    "discount_impact = df.groupby('Discount').agg({\n",
    "    'Sales': 'sum',\n",
    "    'Profit': 'sum'\n",
    "}).reset_index()\n",
    "\n",
    "# Plotting the impact of discounts on sales\n",
    "plt.figure(figsize=(12, 6))\n",
    "sns.lineplot(data=discount_impact, x='Discount', y='Sales', marker='o')\n",
    "plt.title('Impact of Discounts on Sales')\n",
    "plt.xlabel('Discount')\n",
    "plt.ylabel('Total Sales')\n",
    "plt.grid(True)\n",
    "plt.show()\n",
    "\n",
    "# Plotting the impact of discounts on profit\n",
    "plt.figure(figsize=(12, 6))\n",
    "sns.lineplot(data=discount_impact, x='Discount', y='Profit', marker='o', color='red')\n",
    "plt.title('Impact of Discounts on Profit')\n",
    "plt.xlabel('Discount')\n",
    "plt.ylabel('Total Profit')\n",
    "plt.grid(True)\n",
    "plt.show()\n"
   ]
  },
  {
   "cell_type": "markdown",
   "metadata": {},
   "source": [
    "- Effect of discount rates on sales volume and profit margins."
   ]
  },
  {
   "cell_type": "code",
   "execution_count": null,
   "metadata": {},
   "outputs": [],
   "source": [
    "from scipy.optimize import minimize\n",
    "\n",
    "# Check if necessary columns exist\n",
    "print(df.columns)\n",
    "\n",
    "# Step 2: Analyze the Effect of Discount Rates\n",
    "discount_impact = df.groupby('Discount').agg({\n",
    "    'Sales': 'sum',\n",
    "    'Profit': 'sum',\n",
    "    'Quantity': 'sum'\n",
    "}).reset_index()\n",
    "\n",
    "# Calculate profit margin\n",
    "discount_impact['Profit Margin'] = discount_impact['Profit'] / discount_impact['Sales']\n",
    "\n",
    "# Plotting the effect of discounts on sales volume\n",
    "plt.figure(figsize=(12, 6))\n",
    "sns.lineplot(data=discount_impact, x='Discount', y='Quantity', marker='o')\n",
    "plt.title('Effect of Discounts on Sales Volume')\n",
    "plt.xlabel('Discount')\n",
    "plt.ylabel('Total Quantity Sold')\n",
    "plt.grid(True)\n",
    "plt.show()\n",
    "\n",
    "# Plotting the effect of discounts on profit margin\n",
    "plt.figure(figsize=(12, 6))\n",
    "sns.lineplot(data=discount_impact, x='Discount', y='Profit Margin', marker='o', color='red')\n",
    "plt.title('Effect of Discounts on Profit Margin')\n",
    "plt.xlabel('Discount')\n",
    "plt.ylabel('Profit Margin')\n",
    "plt.grid(True)\n",
    "plt.show()"
   ]
  },
  {
   "cell_type": "markdown",
   "metadata": {},
   "source": [
    "Geographical Analysis:\n",
    "\n",
    "- Sales distribution across different regions."
   ]
  },
  {
   "cell_type": "code",
   "execution_count": null,
   "metadata": {},
   "outputs": [],
   "source": [
    "# Aggregating sales by Region \n",
    "sales_region = df.groupby('Region')['Sales'].sum()"
   ]
  },
  {
   "cell_type": "code",
   "execution_count": null,
   "metadata": {},
   "outputs": [],
   "source": [
    "# Set the plot style \n",
    "sns.set(style='whitegrid')\n",
    "\n",
    "# PLotting Sales Distribution by Region \n",
    "plt.figure(figsize=(12, 6))\n",
    "sns.barplot(x='Sales', y='Region', data=df, palette='Blues')\n",
    "plt.title('Sales Distribution by Region')\n",
    "plt.xlabel('Total Sales')\n",
    "plt.ylabel('Region')\n",
    "plt.show()"
   ]
  },
  {
   "cell_type": "markdown",
   "metadata": {},
   "source": [
    "- Identifying high and low performing regions."
   ]
  },
  {
   "cell_type": "code",
   "execution_count": null,
   "metadata": {},
   "outputs": [],
   "source": [
    "# Aggregating sales by Region\n",
    "sales_region = df.groupby('Region')['Sales'].sum().reset_index()\n",
    "\n",
    "# Determine the threshold for high and low performance\n",
    "# Using the median sales as the threshold\n",
    "median_sales = sales_region['Sales'].median()\n",
    "\n",
    "# Categorize regions based on sales\n",
    "sales_region['Performance'] = sales_region['Sales'].apply(lambda x: 'High' if x >= median_sales else 'Low')\n",
    "\n",
    "# Visualize the results\n",
    "plt.figure(figsize=(12, 6))\n",
    "sns.barplot(x='Sales', y='Region', hue='Performance', data=sales_region, palette={'High': 'lightblue', 'Low': 'red'})\n",
    "plt.title('Region Performance Based on Sales')\n",
    "plt.xlabel('Total Sales')\n",
    "plt.ylabel('Region')\n",
    "plt.show()"
   ]
  },
  {
   "cell_type": "markdown",
   "metadata": {},
   "source": [
    "Time Series Analysis:\n",
    "- Seasonal trends in sales and profit.\n",
    "- Forecasting future sales based on historical data."
   ]
  },
  {
   "cell_type": "code",
   "execution_count": null,
   "metadata": {},
   "outputs": [],
   "source": [
    "from statsmodels.tsa.seasonal import seasonal_decompose\n",
    "from statsmodels.tsa.arima.model import ARIMA\n",
    "\n",
    "# Assuming df is your dataframe and it's already loaded with relevant data\n",
    "# df = pd.read_csv('Superstore.csv')  # Uncomment and load your data\n",
    "\n",
    "# Convert the 'Order Date' column to datetime format\n",
    "df['Order Date'] = pd.to_datetime(df['Order Date'])\n",
    "\n",
    "# Set 'Order Date' as the index\n",
    "df.set_index('Order Date', inplace=True)\n",
    "\n",
    "# Resample data by month, summing sales and profit\n",
    "monthly_data = df.resample('M').agg({'Sales': 'sum', 'Profit': 'sum'})\n",
    "\n",
    "# Step 2: Seasonal Trend Analysis\n",
    "# Decompose the sales time series\n",
    "decomposition_sales = seasonal_decompose(monthly_data['Sales'], model='additive')\n",
    "fig_sales = decomposition_sales.plot()\n",
    "fig_sales.set_size_inches(12, 6)\n",
    "plt.show()\n",
    "\n",
    "# Decompose the profit time series\n",
    "decomposition_profit = seasonal_decompose(monthly_data['Profit'], model='additive')\n",
    "fig_profit = decomposition_profit.plot()\n",
    "fig_profit.set_size_inches(12, 6)\n",
    "plt.show()\n",
    "\n",
    "# Step 3: Forecasting Future Sales\n",
    "# Fit the ARIMA model on the sales data\n",
    "model = ARIMA(monthly_data['Sales'], order=(1, 1, 1))\n",
    "model_fit = model.fit()\n",
    "\n",
    "# Forecast future sales\n",
    "forecast_steps = 12  # Forecast for the next 12 months\n",
    "forecast = model_fit.forecast(steps=forecast_steps)\n",
    "\n",
    "# Plot the historical sales and the forecast\n",
    "plt.figure(figsize=(12, 6))\n",
    "plt.plot(monthly_data['Sales'], label='Historical Sales')\n",
    "plt.plot(pd.date_range(start=monthly_data.index[-1], periods=forecast_steps+1, freq='M')[1:], forecast, label='Forecasted Sales', color='red')\n",
    "plt.title('Sales Forecast')\n",
    "plt.xlabel('Date')\n",
    "plt.ylabel('Sales')\n",
    "plt.legend()\n",
    "plt.grid(True)\n",
    "plt.show()"
   ]
  },
  {
   "cell_type": "markdown",
   "metadata": {},
   "source": [
    "Analysis of shipping modes and their impact on delivery time and customer satisfaction."
   ]
  },
  {
   "cell_type": "code",
   "execution_count": null,
   "metadata": {},
   "outputs": [],
   "source": [
    "df['Order Date'] = pd.to_datetime(df['Ship Date'])"
   ]
  },
  {
   "cell_type": "code",
   "execution_count": null,
   "metadata": {},
   "outputs": [],
   "source": [
    "# Calculate profit margin (Profit / Sales)\n",
    "df['Profit Margin'] = df['Profit'] / df['Sales']\n",
    "\n",
    "# Calculate average delivery time, customer satisfaction, and profit margin by shipping mode\n",
    "shipping_analysis = df.groupby('Ship Mode').agg({\n",
    "    'Profit Margin': 'mean'\n",
    "}).reset_index()\n",
    "\n",
    "shipping_analysis"
   ]
  },
  {
   "cell_type": "code",
   "execution_count": null,
   "metadata": {},
   "outputs": [],
   "source": [
    "# Plot average profit margin by shipping mode\n",
    "plt.figure(figsize=(12, 6))\n",
    "sns.barplot(x='Ship Mode', y='Profit Margin', data=shipping_analysis, palette='Blues')\n",
    "plt.title('Average Profit Margin by Shipping Mode')\n",
    "plt.xlabel('Shipping Mode')\n",
    "plt.ylabel('Average Profit Margin')\n",
    "plt.show()"
   ]
  },
  {
   "cell_type": "markdown",
   "metadata": {},
   "source": [
    "Customer Analysis:\n",
    "\n",
    "- Customer segmentation based on purchase behavior (e.g., frequency, average order value)."
   ]
  },
  {
   "cell_type": "code",
   "execution_count": null,
   "metadata": {},
   "outputs": [],
   "source": [
    "df.columns"
   ]
  },
  {
   "cell_type": "code",
   "execution_count": null,
   "metadata": {},
   "outputs": [],
   "source": [
    "from sklearn.cluster import KMeans"
   ]
  },
  {
   "cell_type": "code",
   "execution_count": null,
   "metadata": {},
   "outputs": [],
   "source": [
    "df['Customer ID'] = df['Customer ID']\n",
    "print(df['Customer ID'])"
   ]
  },
  {
   "cell_type": "code",
   "execution_count": null,
   "metadata": {},
   "outputs": [],
   "source": [
    "df['Total Sales'] = df['Sales'] * df['Quantity']"
   ]
  },
  {
   "cell_type": "code",
   "execution_count": null,
   "metadata": {},
   "outputs": [],
   "source": [
    "# Convert the 'Order Date' column to datetime format\n",
    "df['Order Date'] = pd.to_datetime(df['Ship Date'])"
   ]
  },
  {
   "cell_type": "code",
   "execution_count": null,
   "metadata": {},
   "outputs": [],
   "source": [
    "snapshot_date = df['Order Date'].max()"
   ]
  },
  {
   "cell_type": "code",
   "execution_count": null,
   "metadata": {},
   "outputs": [],
   "source": [
    "rfm = df.groupby('Customer ID').agg({\n",
    "    'Order Date': lambda x: (snapshot_date - x.max()).days,\n",
    "    'Order ID': 'nunique',\n",
    "    'Total Sales': 'sum'\n",
    "})"
   ]
  },
  {
   "cell_type": "code",
   "execution_count": null,
   "metadata": {},
   "outputs": [],
   "source": [
    "rfm.rename(columns={'Order Date': 'Recency', 'Order ID': 'Frequency', 'Total Sales': 'MonetaryValue'}, inplace=True)\n",
    "rfm.head()"
   ]
  },
  {
   "cell_type": "code",
   "execution_count": null,
   "metadata": {},
   "outputs": [],
   "source": [
    "rfm.describe()"
   ]
  },
  {
   "cell_type": "code",
   "execution_count": null,
   "metadata": {},
   "outputs": [],
   "source": [
    "import pandas as pd\n",
    "import numpy as np\n",
    "\n",
    "# Example custom bins (define your bins as needed)\n",
    "recency_bins = [0, 30, 60, 90, 120, 180]  # Ensure these are monotonically increasing\n",
    "frequency_bins = [0, 1, 2, 5, 10, 20]  # Ensure these are monotonically increasing\n",
    "monetary_bins = [0, 50, 100, 200, 500, 1000]  # Ensure these are monotonically increasing\n",
    "\n",
    "# Sample RFM DataFrame\n",
    "# For illustration, creating a sample RFM DataFrame\n",
    "data = {\n",
    "    'Recency': [10, 40, 70, 100, 130, 160],\n",
    "    'Frequency': [1, 3, 2, 8, 6, 15],\n",
    "    'MonetaryValue': [20, 75, 150, 250, 400, 900]\n",
    "}\n",
    "rfm = pd.DataFrame(data)\n",
    "\n",
    "# Calculate Recency score based on custom bins\n",
    "rfm['R_Score'] = pd.cut(rfm['Recency'], bins=recency_bins, labels=range(1, 6), include_lowest=True)\n",
    "\n",
    "# Reverse the Recency scores so that higher values indicate more recent purchases\n",
    "rfm['R_Score'] = 5 - rfm['R_Score'].astype(int) + 1\n",
    "\n",
    "# Calculate Frequency and Monetary scores based on custom bins\n",
    "rfm['F_Score'] = pd.cut(rfm['Frequency'], bins=frequency_bins, labels=range(1, 6), include_lowest=True).astype(int)\n",
    "rfm['M_Score'] = pd.cut(rfm['MonetaryValue'], bins=monetary_bins, labels=range(1, 6), include_lowest=True).astype(int)\n",
    "\n",
    "# Check the RFM scores\n",
    "print(rfm[['Recency', 'R_Score', 'Frequency', 'F_Score', 'MonetaryValue', 'M_Score']])\n"
   ]
  },
  {
   "cell_type": "code",
   "execution_count": null,
   "metadata": {},
   "outputs": [],
   "source": [
    "# Extract RFM scores for K-means clustering\n",
    "X = rfm[['R_Score', 'F_Score', 'M_Score']]"
   ]
  },
  {
   "cell_type": "code",
   "execution_count": null,
   "metadata": {},
   "outputs": [],
   "source": [
    "import pandas as pd\n",
    "import numpy as np\n",
    "import matplotlib.pyplot as plt\n",
    "from sklearn.cluster import KMeans\n",
    "from sklearn.preprocessing import StandardScaler\n",
    "\n",
    "# Sample data creation for demonstration purposes\n",
    "# Replace this with your actual data loading step\n",
    "data = {\n",
    "    'Feature1': [10, 20, 30, 40, 50, 60],\n",
    "    'Feature2': [15, 25, 35, 45, 55, 65]\n",
    "}\n",
    "df = pd.DataFrame(data)\n",
    "\n",
    "# Extracting features\n",
    "X = df[['Feature1', 'Feature2']].values\n",
    "\n",
    "# Standardizing the features\n",
    "scaler = StandardScaler()\n",
    "X_scaled = scaler.fit_transform(X)\n",
    "\n",
    "# Calculate inertia (sum of squared distances) for different values of k\n",
    "inertia = []\n",
    "max_k = min(10, len(X_scaled))  # Ensure max_k does not exceed number of samples\n",
    "for k in range(2, max_k + 1):\n",
    "    kmeans = KMeans(n_clusters=k, n_init=10, random_state=42)\n",
    "    kmeans.fit(X_scaled)\n",
    "    inertia.append(kmeans.inertia_)\n",
    "\n",
    "# Plot the elbow curve\n",
    "plt.figure(figsize=(12, 6), dpi=150)\n",
    "plt.plot(range(2, max_k + 1), inertia, marker='o')\n",
    "plt.xlabel('Number of Clusters (k)')\n",
    "plt.ylabel('Inertia')\n",
    "plt.title('Elbow Curve for K-means Clustering')\n",
    "plt.grid(True)\n",
    "plt.show()\n"
   ]
  },
  {
   "cell_type": "markdown",
   "metadata": {},
   "source": [
    "## Clear Recommendations for Superstore Improvement"
   ]
  },
  {
   "cell_type": "markdown",
   "metadata": {},
   "source": [
    "#### Sales Performance Enhancement\n",
    "Insight: Sales peaked during the holiday seasons, with significant contributions from Technology and Office Supplies categories.\n",
    "Recommendation:\n",
    "- Holiday Promotions: Intensify marketing campaigns during holiday seasons. Offer bundle deals on popular items in the Technology and Office Supplies categories.\n",
    "- Stock Management: Ensure adequate inventory levels for high-demand products during these peak periods to avoid stockouts and capitalize on increased demand.\n",
    "\n",
    "#### Product Strategy Optimization\n",
    "Insight: Discounts boosted sales volumes but sometimes eroded profit margins, especially for heavily discounted items.\n",
    "Recommendation:\n",
    "- Targeted Discounts: Implement tiered discount strategies where smaller discounts are applied to high-margin items and larger discounts to clear out low-margin or overstocked items.\n",
    "- Profit Margin Monitoring: Continuously monitor the profit margins of discounted products to ensure that increased sales volume compensates for the reduced profit per unit.\n",
    "\n",
    "#### Geographical Performance Boost\n",
    "Insight: The Western region outperformed others, while the Southern region lagged behind.\n",
    "Recommendation:\n",
    "- Regional Promotions: Design targeted marketing campaigns for the Southern region, possibly highlighting region-specific needs and preferences.\n",
    "- Market Research: Conduct market research to understand the preferences and buying behaviors of customers in the Southern region. Use this information to tailor product offerings and promotions.\n",
    "- Local Partnerships: Partner with local businesses and influencers in the Southern region to enhance brand visibility and credibility.\n",
    "\n",
    "#### Shipping and Logistics Efficiency\n",
    "Insight: Standard Class shipping was the most cost-effective, though Same Day shipping offered premium returns for urgent orders.\n",
    "Recommendation:\n",
    "- Shipping Options: Promote Standard Class shipping as the default option for cost-conscious customers, while highlighting Same Day shipping for customers needing urgent deliveries.\n",
    "- Shipping Promotions: Offer occasional free or discounted Standard Class shipping promotions to encourage higher order volumes.\n",
    "\n",
    "#### Seasonal Trends and Inventory Planning\n",
    "Insight: Sales spiked during back-to-school seasons and end-of-year holidays.\n",
    "Recommendation:\n",
    "- Seasonal Stocking: Increase inventory of popular back-to-school and holiday items ahead of these peak periods.\n",
    "- Seasonal Promotions: Develop themed promotional campaigns around these seasons to drive sales. For instance, offer back-to-school bundles or holiday gift sets.\n",
    "\n",
    "#### Discount Impact Management\n",
    "Insight: Different discount rates influenced sales volume and profit margins.\n",
    "Recommendation:\n",
    "- Dynamic Pricing: Implement a dynamic pricing strategy where discount rates are adjusted based on real-time sales data and inventory levels.\n",
    "- Promotional Analysis: Regularly analyze the effectiveness of discount campaigns to refine strategies. Focus on discounts that drive substantial sales without significantly hurting profit margins.\n",
    "\n",
    "#### Customer Loyalty and Segmentation\n",
    "Insight: Loyal customers, particularly from the Corporate segment, had the highest average order values.\n",
    "Recommendation:\n",
    "- Loyalty Programs: Introduce loyalty programs that offer rewards, exclusive discounts, or early access to new products for repeat customers, especially targeting the Corporate segment.\n",
    "- Customer Engagement: Develop personalized marketing strategies for different customer segments based on their purchasing behavior. Use email campaigns, targeted ads, and personalized offers to engage and retain customers.\n",
    "- Feedback Mechanism: Implement a robust customer feedback mechanism to gather insights directly from customers. Use this feedback to improve products, services, and customer experiences."
   ]
  },
  {
   "cell_type": "markdown",
   "metadata": {},
   "source": [
    "## Conclusion"
   ]
  },
  {
   "cell_type": "markdown",
   "metadata": {},
   "source": [
    "By following these clear, data-driven recommendations, the superstore can enhance its sales performance, optimize product strategies, improve regional performance, streamline shipping, effectively manage seasonal trends, and strengthen customer loyalty. These actions will not only drive sales and profit but also build a stronger, more resilient business."
   ]
  }
 ],
 "metadata": {
  "kernelspec": {
   "display_name": "base",
   "language": "python",
   "name": "python3"
  },
  "language_info": {
   "codemirror_mode": {
    "name": "ipython",
    "version": 3
   },
   "file_extension": ".py",
   "mimetype": "text/x-python",
   "name": "python",
   "nbconvert_exporter": "python",
   "pygments_lexer": "ipython3",
   "version": "3.11.5"
  }
 },
 "nbformat": 4,
 "nbformat_minor": 2
}
